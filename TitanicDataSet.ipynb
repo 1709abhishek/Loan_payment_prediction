{
 "cells": [
  {
   "cell_type": "code",
   "execution_count": 28,
   "metadata": {},
   "outputs": [
    {
     "data": {
      "image/png": "[encoded data removed]",
      "text/plain": [
       "<matplotlib.figure.Figure at 0x54e2130>"
      ]
     },
     "metadata": {},
     "output_type": "display_data"
    }
   ],
   "source": [
    "import pandas as pd\n",
    "import matplotlib.pyplot as plt\n",
    "import numpy as np\n",
    "titanic = pd.read_csv('titanic_train.csv')\n",
    "def changeSex(str):\n",
    "    if (str=='male'):\n",
    "        return 0\n",
    "    else :\n",
    "        return 1\n",
    "\n",
    "def changeEmbarked(str):\n",
    "    if str=='S':\n",
    "        return 1\n",
    "    elif str=='Q':\n",
    "        return 2\n",
    "    else :\n",
    "        return 3\n",
    "        \n",
    "    \n",
    "del titanic[\"Name\"]\n",
    "del titanic['Ticket']\n",
    "del titanic['PassengerId']\n",
    "#print(titanic)\n",
    "#SurvData.describe(n)\n",
    "titanic.describe()\n",
    "SurvData = titanic[titanic.Survived == 1]\n",
    "age_mean = SurvData.Age.mean()\n",
    "titanic.Age.fillna(age_mean,inplace=True)\n",
    "titanic[\"Gender\"] = titanic['Sex'].apply(changeSex)\n",
    "del titanic['Sex']\n",
    "#print(titanic)\n",
    "titanic['Port'] = titanic['Embarked'].apply(changeEmbarked)\n",
    "del titanic['Embarked']\n",
    "\n",
    "port1 = (titanic[titanic.Survived == 1 ]['Port']==1).sum()\n",
    "port2 = (titanic[titanic.Survived == 1 ]['Port']==2).sum()\n",
    "port3 = (titanic[titanic.Survived == 1 ]['Port']==3).sum()\n",
    "pilist = [port1, port2, port3]\n",
    "plt.pie(pilist, labels = ['portS','portQ','portC'],colors = ['blue', 'red', 'green'])\n",
    "plt.axis('equal')\n",
    "plt.show()\n",
    "#print(titanic)\n",
    "#titanic.describe()\n"
   ]
  }
 ],
 "metadata": {
  "kernelspec": {
   "display_name": "Python 3",
   "language": "python",
   "name": "python3"
  },
  "language_info": {
   "codemirror_mode": {
    "name": "ipython",
    "version": 3
   },
   "file_extension": ".py",
   "mimetype": "text/x-python",
   "name": "python",
   "nbconvert_exporter": "python",
   "pygments_lexer": "ipython3",
   "version": "3.6.3"
  }
 },
 "nbformat": 4,
 "nbformat_minor": 2
}
