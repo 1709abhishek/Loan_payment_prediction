{
 "cells": [
  {
   "cell_type": "code",
   "execution_count": 15,
   "metadata": {},
   "outputs": [],
   "source": [
    "import pandas as pd\n",
    "import numpy as np\n",
    "import pydotplus\n",
    "from sklearn import preprocessing\n",
    "from sklearn import tree\n",
    "from sklearn.metrics import confusion_matrix\n",
    "from sklearn.metrics import classification_report\n",
    "from sklearn import cross_validation\n",
    "from sklearn import ensemble\n",
    "from sklearn.linear_model import LogisticRegression\n",
    "from sklearn.linear_model import LinearRegression"
   ]
  },
  {
   "cell_type": "code",
   "execution_count": 16,
   "metadata": {
    "collapsed": true
   },
   "outputs": [],
   "source": [
    "def changeAge(df):\n",
    "    if pd.isnull(df.Age):\n",
    "        if df.Survived == 1:\n",
    "            return x\n",
    "        else:\n",
    "            return y\n",
    "    else:\n",
    "        return df.Age\n",
    "\n",
    "def changeEmbarked(e):\n",
    "    if e == 'S':\n",
    "        return 1\n",
    "    elif e == 'Q':\n",
    "        return 2\n",
    "    \n",
    "    else:\n",
    "        return 3\n",
    "titanic = pd.read_csv(\"titanic_train.csv\")\n",
    "del titanic['Name']\n",
    "del titanic['PassengerId']\n",
    "del titanic['Ticket']\n",
    "del titanic['Cabin']\n",
    "SurvData = titanic[titanic.Survived == 1]\n",
    "NonSurvData = titanic[titanic.Survived == 0]\n",
    "x = SurvData.Age.mean()\n",
    "y = NonSurvData.Age.mean()\n",
    "titanic['Age'] = titanic.apply(changeAge, axis = 1)\n",
    "con = preprocessing.LabelEncoder()\n",
    "titanic['Sex'] = con.fit_transform(titanic['Sex'])\n",
    "titanic['Embarked'] = titanic['Embarked'].apply(changeEmbarked)\n",
    "#con1 = preprocessing.LabelEncoder()\n",
    "#titanic['Cabin'] = con1.fit_transform(titanic['Cabin'])\n"
   ]
  },
  {
   "cell_type": "code",
   "execution_count": 17,
   "metadata": {
    "collapsed": true
   },
   "outputs": [],
   "source": [
    "#Classifiers\n",
    "#Decision Tree\n",
    "clf = tree.DecisionTreeClassifier()\n",
    "Surv = np.array(titanic['Survived'])\n",
    "del titanic['Survived']\n",
    "X_Train, X_Test, Y_Train, Y_Test = cross_validation.train_test_split(titanic, Surv, test_size = 0.2)\n",
    "clf.fit(X_Train, Y_Train)\n",
    "dot_data =tree.export_graphviz(clf, out_file = None, feature_names = titanic.columns)\n",
    "graph = pydotplus.graph_from_dot_data(dot_data)\n",
    "graph.write_pdf(\"titanic_decision_tree.pdf\")\n",
    "Y_Predict = clf.predict(X_Test)\n",
    "Cmatrix = confusion_matrix(Y_Test, Y_Predict)\n",
    "Creport = classification_report(Y_Test, Y_Predict)\n",
    "score = clf.score(X_Test, Y_Test)\n"
   ]
  },
  {
   "cell_type": "code",
   "execution_count": 18,
   "metadata": {
    "collapsed": true
   },
   "outputs": [],
   "source": [
    "\n",
    "#Random Forest\n",
    "clf1 = ensemble.RandomForestClassifier(n_estimators = 10)\n",
    "clf1.fit(X_Train, Y_Train)\n",
    "Y_Predict1 = clf1.predict(X_Test)\n",
    "Cmatrix = confusion_matrix(Y_Test, Y_Predict1)\n",
    "Creport = classification_report(Y_Test, Y_Predict1)\n",
    "score1 = clf1.score(X_Test, Y_Test)\n"
   ]
  },
  {
   "cell_type": "code",
   "execution_count": 19,
   "metadata": {},
   "outputs": [
    {
     "data": {
      "text/plain": [
       "array([[89, 17],\n",
       "       [19, 54]])"
      ]
     },
     "execution_count": 19,
     "metadata": {},
     "output_type": "execute_result"
    }
   ],
   "source": [
    "#Logistic Regression\n",
    "clf2 = LogisticRegression()\n",
    "clf2.fit(X_Train, Y_Train)\n",
    "Y_Predict2 = clf2.predict(X_Test)\n",
    "Cmatrix = confusion_matrix(Y_Test, Y_Predict1)\n",
    "Creport = classification_report(Y_Test, Y_Predict1)\n",
    "score1 = clf2.score(X_Test, Y_Test)\n",
    "#score1\n",
    "Cmatrix"
   ]
  },
  {
   "cell_type": "code",
   "execution_count": 20,
   "metadata": {},
   "outputs": [
    {
     "data": {
      "text/plain": [
       "0.3742713485391545"
      ]
     },
     "execution_count": 20,
     "metadata": {},
     "output_type": "execute_result"
    }
   ],
   "source": [
    "clf3 = LinearRegression()\n",
    "clf3.fit(X_Train, Y_Train)\n",
    "Y_Predict2 = clf3.predict(X_Test)\n",
    "Cmatrix = confusion_matrix(Y_Test, Y_Predict1)\n",
    "Creport = classification_report(Y_Test, Y_Predict1)\n",
    "score1 = clf3.score(X_Test, Y_Test)\n",
    "score1\n",
    "#Cmatrix"
   ]
  }
 ],
 "metadata": {
  "kernelspec": {
   "display_name": "Python 3",
   "language": "python",
   "name": "python3"
  },
  "language_info": {
   "codemirror_mode": {
    "name": "ipython",
    "version": 3
   },
   "file_extension": ".py",
   "mimetype": "text/x-python",
   "name": "python",
   "nbconvert_exporter": "python",
   "pygments_lexer": "ipython3",
   "version": "3.6.3"
  }
 },
 "nbformat": 4,
 "nbformat_minor": 2
}
